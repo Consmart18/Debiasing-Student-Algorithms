{
  "cells": [
    {
      "cell_type": "markdown",
      "metadata": {
        "id": "view-in-github",
        "colab_type": "text"
      },
      "source": [
        "<a href=\"https://colab.research.google.com/github/Consmart18/Debiasing-Student-Algorithms/blob/main/Virgin_Models.ipynb\" target=\"_parent\"><img src=\"https://colab.research.google.com/assets/colab-badge.svg\" alt=\"Open In Colab\"/></a>"
      ]
    },
    {
      "cell_type": "markdown",
      "metadata": {
        "id": "mA2Wv9ye49Fb"
      },
      "source": [
        "## Debiasing algorithms for student progress monitoring\n",
        "### Evaluating fairness of the virgin models (i.e. models with no debiasing stragegy applied)."
      ]
    },
    {
      "cell_type": "code",
      "execution_count": 1,
      "metadata": {
        "colab": {
          "base_uri": "https://localhost:8080/"
        },
        "id": "o4tGvUJvX7RX",
        "outputId": "4d0e3ba3-d072-43c3-bd51-73913a2c6b90"
      },
      "outputs": [
        {
          "output_type": "stream",
          "name": "stdout",
          "text": [
            "Mounted at /content/drive\n"
          ]
        }
      ],
      "source": [
        "from google.colab import drive\n",
        "drive.mount('/content/drive')"
      ]
    },
    {
      "cell_type": "code",
      "execution_count": 2,
      "metadata": {
        "id": "8kcMYGIYX_rr"
      },
      "outputs": [],
      "source": [
        "import pandas as pd\n",
        "import numpy as np\n",
        "import seaborn as sns\n",
        "import matplotlib.pyplot as plt"
      ]
    },
    {
      "cell_type": "code",
      "execution_count": 3,
      "metadata": {
        "id": "Jyt6OooIYbM9"
      },
      "outputs": [],
      "source": [
        "# Load the data\n",
        "projectdata_df = pd.read_csv('/content/drive/MyDrive/Colab Notebooks/Project files/studentinfo_updated_150.csv')"
      ]
    },
    {
      "cell_type": "code",
      "execution_count": 4,
      "metadata": {
        "id": "B9ndctmGY0JU"
      },
      "outputs": [],
      "source": [
        "# drop student identifier\n",
        "df = projectdata_df.drop(['id_student', 'score_tma3', 'score_tma4', 'score_tma5', 'sum_interaction_90',\n",
        "                          'sum_interaction_120', 'sum_interaction_150',], axis=1)"
      ]
    },
    {
      "cell_type": "code",
      "execution_count": 5,
      "metadata": {
        "id": "lcHwgLBNZCPQ"
      },
      "outputs": [],
      "source": [
        "# fill missing values in imd_band and convert to label\n",
        "mapping = {'0-10%': 1, '10-20%': 2, '20-30%': 3, '30-40%': 4, '40-50%': 5,\n",
        "           '50-60%': 6, '60-70%': 7, '70-80%': 8, '80-90%': 9, '90-100%': 10}\n",
        "df['imd_band'] = df['imd_band'].map(mapping)\n",
        "\n",
        "# fill missing values with mode\n",
        "df['imd_band'].fillna(df['imd_band'].mode()[0], inplace=True)\n",
        "\n",
        "# convert age_band to label as well\n",
        "mapping = {'0-35': 0, '35-55': 1, '55<=': 1}\n",
        "df['age_band'] = df['age_band'].map(mapping)"
      ]
    },
    {
      "cell_type": "code",
      "execution_count": 6,
      "metadata": {
        "id": "HBuJjK4SNJMB"
      },
      "outputs": [],
      "source": [
        "\n",
        "# One-hot encode the 'code_module' column\n",
        "df = pd.get_dummies(df, columns=['code_module'])\n",
        "\n",
        "# Split the 'code_presentation' column into 'year' and 'term'\n",
        "df['year'] = df['code_presentation'].str[:4]\n",
        "df['term'] = df['code_presentation'].str[4:]\n",
        "\n",
        "# Label encode the 'term' column\n",
        "from sklearn.preprocessing import LabelEncoder\n",
        "le = LabelEncoder()\n",
        "df['term'] = le.fit_transform(df['term'])\n",
        "\n",
        "# Drop the 'code_presentation' column\n",
        "df = df.drop(columns=['code_presentation'])"
      ]
    },
    {
      "cell_type": "code",
      "source": [
        "df['year'] = df['year'].astype(int)"
      ],
      "metadata": {
        "id": "PYvnWKNchfk0"
      },
      "execution_count": 7,
      "outputs": []
    },
    {
      "cell_type": "code",
      "execution_count": 8,
      "metadata": {
        "id": "jsKNiUcnZR63"
      },
      "outputs": [],
      "source": [
        "# Change gender and disability to binary\n",
        "\n",
        "from sklearn.preprocessing import LabelEncoder\n",
        "\n",
        "le = LabelEncoder()\n",
        "df['gender'] = le.fit_transform(df['gender'])\n",
        "df['disability'] = le.fit_transform(df['disability'])"
      ]
    },
    {
      "cell_type": "code",
      "execution_count": 9,
      "metadata": {
        "id": "S2klx0VEZU8I"
      },
      "outputs": [],
      "source": [
        "# one-hot encode region and highest education\n",
        "\n",
        "df = pd.get_dummies(df, columns=['region'], prefix = ['Reg'])\n",
        "\n",
        "df = pd.get_dummies(df, columns=['highest_education'], prefix = ['Edu'])"
      ]
    },
    {
      "cell_type": "code",
      "execution_count": 10,
      "metadata": {
        "id": "jZEKqhOfjzCb"
      },
      "outputs": [],
      "source": [
        "# Combine pass and distinction to be 'Pass'; also combine Fail & Withdrawn to be 'At Risk'\n",
        "df['final_result'] = df['final_result'].replace(['Pass', 'Distinction'], 'Pass')\n",
        "df['final_result'] = df['final_result'].replace(['Fail', 'Withdrawn'], 'At Risk')\n",
        "# final_result to binary\n",
        "mapping = {'Pass': 0, 'At Risk': 1}\n",
        "df['final_result'] = df['final_result'].map(mapping)"
      ]
    },
    {
      "cell_type": "code",
      "execution_count": 11,
      "metadata": {
        "id": "0CyGeoe5bpe6"
      },
      "outputs": [],
      "source": [
        "X = df.drop('final_result', axis=1)  # Features\n",
        "y = df['final_result']  # Target variable\n",
        "\n",
        "from sklearn.model_selection import train_test_split\n",
        "X_train, X_test, y_train, y_test = train_test_split(X, y, test_size=0.3, random_state=42)"
      ]
    },
    {
      "cell_type": "code",
      "source": [
        "from sklearn.linear_model import LogisticRegression\n",
        "from sklearn.metrics import accuracy_score\n",
        "\n",
        "# Train the model\n",
        "lr = LogisticRegression(C=1, penalty='l2', solver='liblinear', max_iter=3000)\n",
        "lr.fit(X_train, y_train)\n",
        "\n",
        "# Make predictions\n",
        "y_pred_lr = lr.predict(X_test)\n",
        "\n",
        "# Print out accuracy\n",
        "print('Logistic Regression accuracy:', accuracy_score(y_test, y_pred_lr))"
      ],
      "metadata": {
        "colab": {
          "base_uri": "https://localhost:8080/"
        },
        "id": "p1ApdWXPJUTX",
        "outputId": "e2aae164-3956-4fcb-dd14-74a059b14912"
      },
      "execution_count": 12,
      "outputs": [
        {
          "output_type": "stream",
          "name": "stdout",
          "text": [
            "Logistic Regression accuracy: 0.7786868480261813\n"
          ]
        }
      ]
    },
    {
      "cell_type": "code",
      "execution_count": null,
      "metadata": {
        "id": "tnygjyJrj16V"
      },
      "outputs": [],
      "source": [
        "pip install holisticai"
      ]
    },
    {
      "cell_type": "code",
      "source": [
        "def compute_fairness(sensitive_feature):\n",
        "\n",
        "  # Group data by sensitive feature\n",
        "  group_a = (X_test[sensitive_feature] == 1).values\n",
        "  group_b = (X_test[sensitive_feature] == 0).values\n",
        "\n",
        "  # Calculate ABROCA\n",
        "  from holisticai.bias.metrics import abroca\n",
        "  abroca_value = abroca(group_a, group_b, lr.predict_proba(X_test)[:, 1], y_test)\n",
        "  print(f'ABROCA value: {abroca_value}')\n",
        "\n",
        "  # Calculate Average Odds Difference\n",
        "  from holisticai.bias.metrics import average_odds_diff\n",
        "  aod_value = average_odds_diff(group_a, group_b, y_pred_lr, y_test)\n",
        "  print(f'Average Odds Difference value: {aod_value}')\n",
        "\n",
        "  # Calculate Equal Opportunity Difference\n",
        "  from holisticai.bias.metrics import equal_opportunity_diff\n",
        "  eod_value = equal_opportunity_diff(group_a, group_b, y_pred_lr, y_test)\n",
        "  print(f'Equal Opportunity Difference value: {eod_value}')"
      ],
      "metadata": {
        "id": "b8G5PLdPJ6ez"
      },
      "execution_count": 14,
      "outputs": []
    },
    {
      "cell_type": "code",
      "source": [
        "compute_fairness('gender')"
      ],
      "metadata": {
        "colab": {
          "base_uri": "https://localhost:8080/"
        },
        "id": "1cr8n_RtJ92e",
        "outputId": "c896b652-f374-4d19-e99a-bb47766878e1"
      },
      "execution_count": 15,
      "outputs": [
        {
          "output_type": "stream",
          "name": "stdout",
          "text": [
            "ABROCA value: 0.023879272633336335\n",
            "Average Odds Difference value: 0.03867455700632337\n",
            "Equal Opportunity Difference value: 0.06569408523113474\n"
          ]
        }
      ]
    },
    {
      "cell_type": "code",
      "source": [
        "compute_fairness('disability')"
      ],
      "metadata": {
        "colab": {
          "base_uri": "https://localhost:8080/"
        },
        "id": "wAWU6EAtJ_Ut",
        "outputId": "442eb21b-11d0-4829-9851-4396805abee8"
      },
      "execution_count": 16,
      "outputs": [
        {
          "output_type": "stream",
          "name": "stdout",
          "text": [
            "ABROCA value: -0.00366140020476613\n",
            "Average Odds Difference value: 0.1268815049844077\n",
            "Equal Opportunity Difference value: 0.10674794722788428\n"
          ]
        }
      ]
    },
    {
      "cell_type": "code",
      "source": [
        "compute_fairness('age_band')"
      ],
      "metadata": {
        "colab": {
          "base_uri": "https://localhost:8080/"
        },
        "id": "iwaf8WqVKBnD",
        "outputId": "f9009a96-36e1-4499-da8f-4c48f2957b88"
      },
      "execution_count": 17,
      "outputs": [
        {
          "output_type": "stream",
          "name": "stdout",
          "text": [
            "ABROCA value: -0.0018113535708093043\n",
            "Average Odds Difference value: -0.03572590059447479\n",
            "Equal Opportunity Difference value: -0.03022592396649948\n"
          ]
        }
      ]
    },
    {
      "cell_type": "markdown",
      "source": [
        "### Gradient Boosting"
      ],
      "metadata": {
        "id": "_mBtPndjiCdY"
      }
    },
    {
      "cell_type": "code",
      "source": [
        "X_train, X_test, y_train, y_test = train_test_split(X, y, test_size=0.3, random_state=42)"
      ],
      "metadata": {
        "id": "XeJnauwgF9t4"
      },
      "execution_count": 18,
      "outputs": []
    },
    {
      "cell_type": "code",
      "source": [
        "from sklearn.ensemble import GradientBoostingClassifier\n",
        "# Gradient Boosting\n",
        "gb = GradientBoostingClassifier(learning_rate=0.1, max_depth=4, min_samples_leaf=50, n_estimators=240, random_state=42)\n",
        "gb.fit(X_train, y_train)\n",
        "\n",
        "# Make predictions\n",
        "y_pred_gb = gb.predict(X_test)\n",
        "\n",
        "# Print out accuracy\n",
        "print('Gradient Boosting accuracy:', accuracy_score(y_test, y_pred_gb))"
      ],
      "metadata": {
        "id": "px2TXm4gQFma",
        "colab": {
          "base_uri": "https://localhost:8080/"
        },
        "outputId": "72c98435-5fd7-4143-c26e-43a5fa9ded2b"
      },
      "execution_count": 19,
      "outputs": [
        {
          "output_type": "stream",
          "name": "stdout",
          "text": [
            "Gradient Boosting accuracy: 0.8009817958682757\n"
          ]
        }
      ]
    },
    {
      "cell_type": "code",
      "source": [
        "def compute_fairness1(sensitive_feature):\n",
        "\n",
        "  # Group data by gender\n",
        "  group_a = (X_test[sensitive_feature] == 1).values\n",
        "  group_b = (X_test[sensitive_feature] == 0).values\n",
        "\n",
        "  # Calculate ABROCA\n",
        "  from holisticai.bias.metrics import abroca\n",
        "  abroca_value = abroca(group_a, group_b, gb.predict_proba(X_test)[:, 1], y_test)\n",
        "  print(f'ABROCA value: {abroca_value}')\n",
        "\n",
        "  # Calculate Average Odds Difference\n",
        "  from holisticai.bias.metrics import average_odds_diff\n",
        "  aod_value = average_odds_diff(group_a, group_b, y_pred_gb, y_test)\n",
        "  print(f'Average Odds Difference value: {aod_value}')\n",
        "\n",
        "  # Calculate Equal Opportunity Difference\n",
        "  from holisticai.bias.metrics import equal_opportunity_diff\n",
        "  eod_value = equal_opportunity_diff(group_a, group_b, y_pred_gb, y_test)\n",
        "  print(f'Equal Opportunity Difference value: {eod_value}')"
      ],
      "metadata": {
        "id": "YIQSAA1uQFbS"
      },
      "execution_count": 20,
      "outputs": []
    },
    {
      "cell_type": "code",
      "source": [
        "compute_fairness1('gender')"
      ],
      "metadata": {
        "id": "ycW9xGWvigdb",
        "colab": {
          "base_uri": "https://localhost:8080/"
        },
        "outputId": "5f6b0be8-9976-4aae-c8e4-b9ac5f56cad2"
      },
      "execution_count": 21,
      "outputs": [
        {
          "output_type": "stream",
          "name": "stdout",
          "text": [
            "ABROCA value: 0.00919327296763206\n",
            "Average Odds Difference value: 0.030460925628085153\n",
            "Equal Opportunity Difference value: 0.04188903439814495\n"
          ]
        }
      ]
    },
    {
      "cell_type": "code",
      "source": [
        "compute_fairness1('age_band')"
      ],
      "metadata": {
        "id": "hgum54AbigZQ",
        "colab": {
          "base_uri": "https://localhost:8080/"
        },
        "outputId": "ed7dde10-50b2-4922-c91f-58b633c67b59"
      },
      "execution_count": 22,
      "outputs": [
        {
          "output_type": "stream",
          "name": "stdout",
          "text": [
            "ABROCA value: 0.010929679459563135\n",
            "Average Odds Difference value: -0.04251131969733572\n",
            "Equal Opportunity Difference value: -0.023461313220187408\n"
          ]
        }
      ]
    },
    {
      "cell_type": "code",
      "source": [
        "compute_fairness1('disability')"
      ],
      "metadata": {
        "id": "hQ2ft8pDHIlW",
        "colab": {
          "base_uri": "https://localhost:8080/"
        },
        "outputId": "f9926e2c-3cff-42fb-c1ce-84a0cac93280"
      },
      "execution_count": 23,
      "outputs": [
        {
          "output_type": "stream",
          "name": "stdout",
          "text": [
            "ABROCA value: 4.272996665322104e-05\n",
            "Average Odds Difference value: 0.07830895147560069\n",
            "Equal Opportunity Difference value: 0.06229020410767061\n"
          ]
        }
      ]
    },
    {
      "cell_type": "markdown",
      "source": [
        "### Random Forest"
      ],
      "metadata": {
        "id": "AFT43NJnjQfI"
      }
    },
    {
      "cell_type": "code",
      "source": [
        "from sklearn.ensemble import RandomForestClassifier\n",
        "# Random Forest\n",
        "rf = RandomForestClassifier(max_depth=15, min_samples_leaf=2, min_samples_split=5, n_estimators=200, random_state=42)\n",
        "rf.fit(X_train, y_train)\n",
        "\n",
        "# Make predictions\n",
        "y_pred_rf = rf.predict(X_test)\n",
        "\n",
        "# Print out accuracy\n",
        "print('Random Forest accuracy:', accuracy_score(y_test, y_pred_rf))"
      ],
      "metadata": {
        "id": "DWOFtLDQigN0",
        "colab": {
          "base_uri": "https://localhost:8080/"
        },
        "outputId": "7afdac6b-9858-4338-f1cf-5abfea340cbb"
      },
      "execution_count": 24,
      "outputs": [
        {
          "output_type": "stream",
          "name": "stdout",
          "text": [
            "Random Forest accuracy: 0.7944364900797709\n"
          ]
        }
      ]
    },
    {
      "cell_type": "code",
      "source": [
        "def compute_fairness2(sensitive_feature):\n",
        "\n",
        "  # Group data by gender\n",
        "  group_a = (X_test[sensitive_feature] == 1).values  # assuming 1 represents 'male'\n",
        "  group_b = (X_test[sensitive_feature] == 0).values  # assuming 0 represents 'female'\n",
        "\n",
        "  # Calculate ABROCA\n",
        "  from holisticai.bias.metrics import abroca\n",
        "  abroca_value = abroca(group_a, group_b, rf.predict_proba(X_test)[:, 1], y_test)\n",
        "  print(f'ABROCA value: {abroca_value}')\n",
        "\n",
        "  # Calculate Average Odds Difference\n",
        "  from holisticai.bias.metrics import average_odds_diff\n",
        "  aod_value = average_odds_diff(group_a, group_b, y_pred_rf, y_test)\n",
        "  print(f'Average Odds Difference value: {aod_value}')\n",
        "\n",
        "  # Calculate Equal Opportunity Difference\n",
        "  from holisticai.bias.metrics import equal_opportunity_diff\n",
        "  eod_value = equal_opportunity_diff(group_a, group_b, y_pred_rf, y_test)\n",
        "  print(f'Equal Opportunity Difference value: {eod_value}')"
      ],
      "metadata": {
        "id": "GMy-7ZLfjfsS"
      },
      "execution_count": 25,
      "outputs": []
    },
    {
      "cell_type": "code",
      "source": [
        "compute_fairness2('gender')"
      ],
      "metadata": {
        "id": "UcxpOjc-jfh4",
        "colab": {
          "base_uri": "https://localhost:8080/"
        },
        "outputId": "08398cbe-352b-46a3-b407-1b8555b3e395"
      },
      "execution_count": 26,
      "outputs": [
        {
          "output_type": "stream",
          "name": "stdout",
          "text": [
            "ABROCA value: 0.011016568194867515\n",
            "Average Odds Difference value: 0.027222656521885866\n",
            "Equal Opportunity Difference value: 0.037707669878003225\n"
          ]
        }
      ]
    },
    {
      "cell_type": "code",
      "source": [
        "compute_fairness2('disability')"
      ],
      "metadata": {
        "id": "0IF-fSxtjk66",
        "colab": {
          "base_uri": "https://localhost:8080/"
        },
        "outputId": "3e3846dd-faae-49ac-c8d4-316d8c0a742f"
      },
      "execution_count": 27,
      "outputs": [
        {
          "output_type": "stream",
          "name": "stdout",
          "text": [
            "ABROCA value: 0.0010926757142766252\n",
            "Average Odds Difference value: 0.05273230113442286\n",
            "Equal Opportunity Difference value: 0.04727831124369286\n"
          ]
        }
      ]
    },
    {
      "cell_type": "code",
      "source": [
        "compute_fairness2('age_band')"
      ],
      "metadata": {
        "id": "-XaBjMpjjk3y",
        "colab": {
          "base_uri": "https://localhost:8080/"
        },
        "outputId": "3116b198-a051-4f66-f217-794746ccc492"
      },
      "execution_count": 28,
      "outputs": [
        {
          "output_type": "stream",
          "name": "stdout",
          "text": [
            "ABROCA value: 0.004582464076055115\n",
            "Average Odds Difference value: -0.03813503369202035\n",
            "Equal Opportunity Difference value: -0.01616614846647646\n"
          ]
        }
      ]
    },
    {
      "cell_type": "code",
      "source": [],
      "metadata": {
        "id": "xtHE9c6JlvUC"
      },
      "execution_count": 28,
      "outputs": []
    }
  ],
  "metadata": {
    "colab": {
      "provenance": [],
      "authorship_tag": "ABX9TyNHJ504EDI5J6quJ1GOUkqA",
      "include_colab_link": true
    },
    "kernelspec": {
      "display_name": "Python 3",
      "name": "python3"
    },
    "language_info": {
      "name": "python"
    }
  },
  "nbformat": 4,
  "nbformat_minor": 0
}