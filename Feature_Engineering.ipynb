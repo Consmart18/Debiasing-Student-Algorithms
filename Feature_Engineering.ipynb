{
  "nbformat": 4,
  "nbformat_minor": 0,
  "metadata": {
    "colab": {
      "provenance": [],
      "authorship_tag": "ABX9TyMjLcTN0aHDDpTcCRVsKNpV",
      "include_colab_link": true
    },
    "kernelspec": {
      "name": "python3",
      "display_name": "Python 3"
    },
    "language_info": {
      "name": "python"
    }
  },
  "cells": [
    {
      "cell_type": "markdown",
      "metadata": {
        "id": "view-in-github",
        "colab_type": "text"
      },
      "source": [
        "<a href=\"https://colab.research.google.com/github/Consmart18/Debiasing-Student-Algorithms/blob/main/Feature_Engineering.ipynb\" target=\"_parent\"><img src=\"https://colab.research.google.com/assets/colab-badge.svg\" alt=\"Open In Colab\"/></a>"
      ]
    },
    {
      "cell_type": "code",
      "execution_count": null,
      "metadata": {
        "colab": {
          "base_uri": "https://localhost:8080/"
        },
        "id": "Ro0V7C0pRFay",
        "outputId": "32e8c03c-dbee-4ee5-c918-0fd71a730e53"
      },
      "outputs": [
        {
          "output_type": "stream",
          "name": "stdout",
          "text": [
            "Mounted at /content/drive\n"
          ]
        }
      ],
      "source": [
        "from google.colab import drive\n",
        "drive.mount('/content/drive')"
      ]
    },
    {
      "cell_type": "code",
      "source": [
        "import pandas as pd\n",
        "import numpy as np"
      ],
      "metadata": {
        "id": "aobgEH_4RJK7"
      },
      "execution_count": null,
      "outputs": []
    },
    {
      "cell_type": "code",
      "source": [
        "# Load the data\n",
        "studentinfo_df = pd.read_csv('/content/drive/MyDrive/Colab Notebooks/Project files/studentInfo.csv')\n",
        "assessments_df = pd.read_csv('/content/drive/MyDrive/Colab Notebooks/Project files/assessments.csv')\n",
        "student_assessment_df = pd.read_csv('/content/drive/MyDrive/Colab Notebooks/Project files/studentAssessment.csv')\n",
        "student_vle_df = pd.read_csv('/content/drive/MyDrive/Colab Notebooks/Project files/studentVle.csv')"
      ],
      "metadata": {
        "id": "19YFPG3et-dw"
      },
      "execution_count": null,
      "outputs": []
    },
    {
      "cell_type": "markdown",
      "source": [
        "### Generate new feature, score_tma1\n",
        "This is the score of the student in the tutor-marked assessment conducted within the first 30 days of the start of the Module."
      ],
      "metadata": {
        "id": "3iH6mP4Bp4MV"
      }
    },
    {
      "cell_type": "code",
      "source": [
        "# Filter the assessments_df for assessments with assessment_type = 'TMA' and date <= 30\n",
        "filtered_assessments_df = assessments_df[(assessments_df['assessment_type'] == 'TMA') &\n",
        "                                         (assessments_df['date'] <= 30)]\n",
        "\n",
        "# Merge the filtered_assessments_df with student_assessment_df on id_assessment\n",
        "merged_df = pd.merge(filtered_assessments_df, student_assessment_df, on='id_assessment')\n",
        "\n",
        "# Group the merged_df by id_student and get the average score for each student\n",
        "grouped_df = merged_df.groupby('id_student')['score'].mean().reset_index()\n",
        "\n",
        "# Rename the score column to score_tma1\n",
        "grouped_df.rename(columns={'score': 'score_tma1'}, inplace=True)\n",
        "\n",
        "# Merge the grouped_df with studentinfo_df on id_student and replace missing values\n",
        "studentinfo_new_df = pd.merge(studentinfo_df, grouped_df, on='id_student', how='left')\n",
        "studentinfo_new_df['score_tma1'].fillna(0, inplace=True)"
      ],
      "metadata": {
        "id": "B_FrS7DbRSpL"
      },
      "execution_count": null,
      "outputs": []
    },
    {
      "cell_type": "markdown",
      "source": [
        "### Generate new feature, score_tma2\n",
        "This is the score of the student in the tutor-marked assessment conducted within the first 30 to 60 days of the start of the Module."
      ],
      "metadata": {
        "id": "XLdBt3gQtnQd"
      }
    },
    {
      "cell_type": "code",
      "source": [
        "# Filter the assessments_df for assessments with assessment_type = 'TMA' and date > 30 and <= 60\n",
        "filtered_assessments_df1 = assessments_df[(assessments_df['assessment_type'] == 'TMA') &\n",
        "                                  (assessments_df['date'] > 30) &  (assessments_df[\"date\"] <= 60)]\n",
        "\n",
        "# Merge the filtered_assessments_df with student_assessment_df on id_assessment\n",
        "merged_df1 = pd.merge(filtered_assessments_df1, student_assessment_df, on='id_assessment')\n",
        "\n",
        "# Group the merged_df by id_student and get the average score for each student\n",
        "grouped_df1 = merged_df1.groupby('id_student')['score'].mean().reset_index()\n",
        "\n",
        "# Rename the score column to score_tma2\n",
        "grouped_df1.rename(columns={'score': 'score_tma2'}, inplace=True)\n",
        "\n",
        "# Merge the grouped_df with studentinfo_df on id_student and fill missing values\n",
        "studentinfo_new_df1 = pd.merge(studentinfo_new_df, grouped_df1, on='id_student', how='left')\n",
        "studentinfo_new_df1['score_tma2'].fillna(0, inplace=True)"
      ],
      "metadata": {
        "id": "JniCLCN_RZgs"
      },
      "execution_count": null,
      "outputs": []
    },
    {
      "cell_type": "markdown",
      "source": [
        "### Generate new feature, score_tma3\n",
        "This is the score of the student in the tutor-marked assessment conducted within the first 60 to 90 days of the start of the Module."
      ],
      "metadata": {
        "id": "F4SGhglWK6UV"
      }
    },
    {
      "cell_type": "code",
      "source": [
        "# Filter the assessments_df for assessments with assessment_type = 'TMA' and date > 60 and <= 90\n",
        "filtered_assessments_df2 = assessments_df[(assessments_df['assessment_type'] == 'TMA') &\n",
        "                                  (assessments_df['date'] > 60) &  (assessments_df[\"date\"] <= 90)]\n",
        "\n",
        "# Merge the filtered_assessments_df with student_assessment_df on id_assessment\n",
        "merged_df2 = pd.merge(filtered_assessments_df2, student_assessment_df, on='id_assessment')\n",
        "\n",
        "# Group the merged_df by id_student and get the average score for each student\n",
        "grouped_df2 = merged_df2.groupby('id_student')['score'].mean().reset_index()\n",
        "\n",
        "# Rename the score column to score_tma3\n",
        "grouped_df2.rename(columns={'score': 'score_tma3'}, inplace=True)\n",
        "\n",
        "# Merge the grouped_df with studentinfo_new_df1 on id_student and fill missing values\n",
        "studentinfo_new_df2 = pd.merge(studentinfo_new_df1, grouped_df2, on='id_student', how='left')\n",
        "studentinfo_new_df2['score_tma3'].fillna(0, inplace=True)"
      ],
      "metadata": {
        "id": "E5BhAlBtK448"
      },
      "execution_count": null,
      "outputs": []
    },
    {
      "cell_type": "markdown",
      "source": [
        "### Generate new feature, score_tma4\n",
        "This is the score of the student in the tutor-marked assessment conducted within the first 90 to 120 days of the start of the Module."
      ],
      "metadata": {
        "id": "0Vvx99_Zd5O5"
      }
    },
    {
      "cell_type": "code",
      "source": [
        "# Filter the assessments_df for assessments with assessment_type = 'TMA' and date > 90 and <= 120\n",
        "filtered_assessments_df3 = assessments_df[(assessments_df['assessment_type'] == 'TMA') &\n",
        "                                  (assessments_df['date'] > 90) &  (assessments_df[\"date\"] <= 120)]\n",
        "\n",
        "# Merge the filtered_assessments_df with student_assessment_df on id_assessment\n",
        "merged_df3 = pd.merge(filtered_assessments_df3, student_assessment_df, on='id_assessment')\n",
        "\n",
        "# Group the merged_df by id_student and get the average score for each student\n",
        "grouped_df3 = merged_df3.groupby('id_student')['score'].mean().reset_index()\n",
        "\n",
        "# Rename the score column to score_tma4\n",
        "grouped_df3.rename(columns={'score': 'score_tma4'}, inplace=True)\n",
        "\n",
        "# Merge the grouped_df with studentinfo_new_df on id_student and fill missing values\n",
        "studentinfo_new_df2 = pd.merge(studentinfo_new_df2, grouped_df3, on='id_student', how='left')\n",
        "studentinfo_new_df2['score_tma4'].fillna(0, inplace=True)"
      ],
      "metadata": {
        "id": "94WXCC0bdfwJ"
      },
      "execution_count": null,
      "outputs": []
    },
    {
      "cell_type": "markdown",
      "source": [
        "### Generate new feature, score_tma5"
      ],
      "metadata": {
        "id": "fWdrF2SvVgHU"
      }
    },
    {
      "cell_type": "code",
      "source": [
        "# Filter the assessments_df for assessments with assessment_type = 'TMA' and date > 120 and <= 150\n",
        "filtered_assessments_df4 = assessments_df[(assessments_df['assessment_type'] == 'TMA') &\n",
        "                                  (assessments_df['date'] > 120) &  (assessments_df[\"date\"] <= 150)]\n",
        "\n",
        "# Merge the filtered_assessments_df with student_assessment_df on id_assessment\n",
        "merged_df4 = pd.merge(filtered_assessments_df4, student_assessment_df, on='id_assessment')\n",
        "\n",
        "# Group the merged_df by id_student and get the average score for each student\n",
        "grouped_df4 = merged_df4.groupby('id_student')['score'].mean().reset_index()\n",
        "\n",
        "# Rename the score column to score_tma5\n",
        "grouped_df4.rename(columns={'score': 'score_tma5'}, inplace=True)\n",
        "\n",
        "# Merge the grouped_df with studentinfo_new_df on id_student and fill missing values\n",
        "studentinfo_new_df3 = pd.merge(studentinfo_new_df2, grouped_df4, on='id_student', how='left')\n",
        "studentinfo_new_df3['score_tma5'].fillna(0, inplace=True)"
      ],
      "metadata": {
        "id": "MPbDTqAvVdUZ"
      },
      "execution_count": null,
      "outputs": []
    },
    {
      "cell_type": "markdown",
      "source": [
        "### Generate new features: sum_interact_20 and sum_interact_60\n",
        "\n",
        "The feature sum_interact_20 represents the number of times a student interacts with a module material in the first 20 days while sum_interact_60 represents the number of times a student interacts with a module material in the first 60 days."
      ],
      "metadata": {
        "id": "qx9Z9cjIx3Yt"
      }
    },
    {
      "cell_type": "code",
      "source": [
        "# Filter the student_vle_df for rows with different date conditions\n",
        "filtered_vle_df_30 = student_vle_df[student_vle_df['date'] < 30]\n",
        "filtered_vle_df_60 = student_vle_df[(student_vle_df['date'] >= 30) & (student_vle_df['date'] < 60)]\n",
        "filtered_vle_df_90 = student_vle_df[(student_vle_df['date'] >= 60) & (student_vle_df['date'] < 90)]\n",
        "filtered_vle_df_120 = student_vle_df[(student_vle_df['date'] >= 90) & (student_vle_df['date'] <= 120)]\n",
        "filtered_vle_df_150 = student_vle_df[(student_vle_df['date'] >= 120) & (student_vle_df['date'] <= 150)]\n",
        "\n",
        "# Group the filtered DataFrames by 'id_student' and 'code_presentation' and sum the 'sum_click' values\n",
        "grouped_vle_df_30 = filtered_vle_df_30.groupby(['id_student', 'code_presentation'])['sum_click'].sum().reset_index()\n",
        "grouped_vle_df_60 = filtered_vle_df_60.groupby(['id_student', 'code_presentation'])['sum_click'].sum().reset_index()\n",
        "grouped_vle_df_90 = filtered_vle_df_90.groupby(['id_student', 'code_presentation'])['sum_click'].sum().reset_index()\n",
        "grouped_vle_df_120 = filtered_vle_df_120.groupby(['id_student', 'code_presentation'])['sum_click'].sum().reset_index()\n",
        "grouped_vle_df_150 = filtered_vle_df_150.groupby(['id_student', 'code_presentation'])['sum_click'].sum().reset_index()\n",
        "\n",
        "# Rename the 'sum_click' column to 'sum_interaction_30', 'sum_interaction_60', 'sum_interaction_90' and 'sum_interaction_120' respectively\n",
        "grouped_vle_df_30.rename(columns={'sum_click': 'sum_interaction_30'}, inplace=True)\n",
        "grouped_vle_df_60.rename(columns={'sum_click': 'sum_interaction_60'}, inplace=True)\n",
        "grouped_vle_df_90.rename(columns={'sum_click': 'sum_interaction_90'}, inplace=True)\n",
        "grouped_vle_df_120.rename(columns={'sum_click': 'sum_interaction_120'}, inplace=True)\n",
        "grouped_vle_df_150.rename(columns={'sum_click': 'sum_interaction_150'}, inplace=True)\n",
        "\n",
        "# Merge the resulting DataFrames with studentinfo_new_df3 on ['id_student', 'code_presentation']\n",
        "studentinfo_new_df4 = pd.merge(studentinfo_new_df3, grouped_vle_df_30, on=['id_student', 'code_presentation'], how='left')\n",
        "studentinfo_new_df4 = pd.merge(studentinfo_new_df4, grouped_vle_df_60, on=['id_student', 'code_presentation'], how='left')\n",
        "studentinfo_new_df4 = pd.merge(studentinfo_new_df4, grouped_vle_df_90, on=['id_student', 'code_presentation'], how='left')\n",
        "studentinfo_new_df4 = pd.merge(studentinfo_new_df4, grouped_vle_df_120, on=['id_student', 'code_presentation'], how='left')\n",
        "studentinfo_new_df4 = pd.merge(studentinfo_new_df4, grouped_vle_df_150, on=['id_student', 'code_presentation'], how='left')\n"
      ],
      "metadata": {
        "id": "Mdj1QoWIaeuI"
      },
      "execution_count": null,
      "outputs": []
    },
    {
      "cell_type": "code",
      "source": [
        "# Replace missing values with 0\n",
        "studentinfo_new_df4['sum_interaction_30'].fillna(0, inplace=True)\n",
        "studentinfo_new_df4['sum_interaction_60'].fillna(0, inplace=True)\n",
        "studentinfo_new_df4['sum_interaction_90'].fillna(0, inplace=True)\n",
        "studentinfo_new_df4['sum_interaction_120'].fillna(0, inplace=True)\n",
        "studentinfo_new_df4['sum_interaction_150'].fillna(0, inplace=True)"
      ],
      "metadata": {
        "id": "tg3vfBHwjGAT"
      },
      "execution_count": null,
      "outputs": []
    },
    {
      "cell_type": "code",
      "source": [
        "cols = list(studentinfo_new_df4.columns)\n",
        "cols.append(cols.pop(cols.index('final_result')))\n",
        "df = studentinfo_new_df4[cols]\n",
        "\n",
        "# Save the studentinfo_new_df3 as a new csv file\n",
        "df.to_csv('studentinfo_updated.csv', index=False)"
      ],
      "metadata": {
        "id": "pumsIuL0yugz"
      },
      "execution_count": null,
      "outputs": []
    },
    {
      "cell_type": "code",
      "source": [
        "df.head()"
      ],
      "metadata": {
        "colab": {
          "base_uri": "https://localhost:8080/",
          "height": 439
        },
        "id": "mo49DbrF8-SA",
        "outputId": "4fd52701-5677-407d-e69a-1ddaef5ca905"
      },
      "execution_count": null,
      "outputs": [
        {
          "output_type": "execute_result",
          "data": {
            "text/plain": [
              "  code_module code_presentation  id_student gender                region  \\\n",
              "0         AAA             2013J       11391      M   East Anglian Region   \n",
              "1         AAA             2013J       28400      F              Scotland   \n",
              "2         AAA             2013J       30268      F  North Western Region   \n",
              "3         AAA             2013J       31604      F     South East Region   \n",
              "4         AAA             2013J       32885      F  West Midlands Region   \n",
              "\n",
              "       highest_education imd_band age_band  num_of_prev_attempts  \\\n",
              "0       HE Qualification  90-100%     55<=                     0   \n",
              "1       HE Qualification   20-30%    35-55                     0   \n",
              "2  A Level or Equivalent   30-40%    35-55                     0   \n",
              "3  A Level or Equivalent   50-60%    35-55                     0   \n",
              "4     Lower Than A Level   50-60%     0-35                     0   \n",
              "\n",
              "   studied_credits  ... score_tma2  score_tma3  score_tma4  score_tma5  \\\n",
              "0              240  ...       85.0         0.0        80.0         0.0   \n",
              "1               60  ...       68.0         0.0        70.0         0.0   \n",
              "2               60  ...        0.0         0.0         0.0         0.0   \n",
              "3               60  ...       71.0         0.0        74.0         0.0   \n",
              "4               60  ...       30.0         0.0        63.0         0.0   \n",
              "\n",
              "   sum_interaction_30  sum_interaction_60  sum_interaction_90  \\\n",
              "0               419.0               110.0                58.0   \n",
              "1               618.0                51.0               148.0   \n",
              "2               281.0                 0.0                 0.0   \n",
              "3               503.0               301.0               184.0   \n",
              "4               567.0                35.0                81.0   \n",
              "\n",
              "   sum_interaction_120  sum_interaction_150  final_result  \n",
              "0                 41.0                 82.0          Pass  \n",
              "1                 87.0                114.0          Pass  \n",
              "2                  0.0                  0.0     Withdrawn  \n",
              "3                269.0                242.0          Pass  \n",
              "4                 64.0                 78.0          Pass  \n",
              "\n",
              "[5 rows x 22 columns]"
            ],
            "text/html": [
              "\n",
              "  <div id=\"df-c6fd51c9-f917-46d8-9c32-c51a18215e27\">\n",
              "    <div class=\"colab-df-container\">\n",
              "      <div>\n",
              "<style scoped>\n",
              "    .dataframe tbody tr th:only-of-type {\n",
              "        vertical-align: middle;\n",
              "    }\n",
              "\n",
              "    .dataframe tbody tr th {\n",
              "        vertical-align: top;\n",
              "    }\n",
              "\n",
              "    .dataframe thead th {\n",
              "        text-align: right;\n",
              "    }\n",
              "</style>\n",
              "<table border=\"1\" class=\"dataframe\">\n",
              "  <thead>\n",
              "    <tr style=\"text-align: right;\">\n",
              "      <th></th>\n",
              "      <th>code_module</th>\n",
              "      <th>code_presentation</th>\n",
              "      <th>id_student</th>\n",
              "      <th>gender</th>\n",
              "      <th>region</th>\n",
              "      <th>highest_education</th>\n",
              "      <th>imd_band</th>\n",
              "      <th>age_band</th>\n",
              "      <th>num_of_prev_attempts</th>\n",
              "      <th>studied_credits</th>\n",
              "      <th>...</th>\n",
              "      <th>score_tma2</th>\n",
              "      <th>score_tma3</th>\n",
              "      <th>score_tma4</th>\n",
              "      <th>score_tma5</th>\n",
              "      <th>sum_interaction_30</th>\n",
              "      <th>sum_interaction_60</th>\n",
              "      <th>sum_interaction_90</th>\n",
              "      <th>sum_interaction_120</th>\n",
              "      <th>sum_interaction_150</th>\n",
              "      <th>final_result</th>\n",
              "    </tr>\n",
              "  </thead>\n",
              "  <tbody>\n",
              "    <tr>\n",
              "      <th>0</th>\n",
              "      <td>AAA</td>\n",
              "      <td>2013J</td>\n",
              "      <td>11391</td>\n",
              "      <td>M</td>\n",
              "      <td>East Anglian Region</td>\n",
              "      <td>HE Qualification</td>\n",
              "      <td>90-100%</td>\n",
              "      <td>55&lt;=</td>\n",
              "      <td>0</td>\n",
              "      <td>240</td>\n",
              "      <td>...</td>\n",
              "      <td>85.0</td>\n",
              "      <td>0.0</td>\n",
              "      <td>80.0</td>\n",
              "      <td>0.0</td>\n",
              "      <td>419.0</td>\n",
              "      <td>110.0</td>\n",
              "      <td>58.0</td>\n",
              "      <td>41.0</td>\n",
              "      <td>82.0</td>\n",
              "      <td>Pass</td>\n",
              "    </tr>\n",
              "    <tr>\n",
              "      <th>1</th>\n",
              "      <td>AAA</td>\n",
              "      <td>2013J</td>\n",
              "      <td>28400</td>\n",
              "      <td>F</td>\n",
              "      <td>Scotland</td>\n",
              "      <td>HE Qualification</td>\n",
              "      <td>20-30%</td>\n",
              "      <td>35-55</td>\n",
              "      <td>0</td>\n",
              "      <td>60</td>\n",
              "      <td>...</td>\n",
              "      <td>68.0</td>\n",
              "      <td>0.0</td>\n",
              "      <td>70.0</td>\n",
              "      <td>0.0</td>\n",
              "      <td>618.0</td>\n",
              "      <td>51.0</td>\n",
              "      <td>148.0</td>\n",
              "      <td>87.0</td>\n",
              "      <td>114.0</td>\n",
              "      <td>Pass</td>\n",
              "    </tr>\n",
              "    <tr>\n",
              "      <th>2</th>\n",
              "      <td>AAA</td>\n",
              "      <td>2013J</td>\n",
              "      <td>30268</td>\n",
              "      <td>F</td>\n",
              "      <td>North Western Region</td>\n",
              "      <td>A Level or Equivalent</td>\n",
              "      <td>30-40%</td>\n",
              "      <td>35-55</td>\n",
              "      <td>0</td>\n",
              "      <td>60</td>\n",
              "      <td>...</td>\n",
              "      <td>0.0</td>\n",
              "      <td>0.0</td>\n",
              "      <td>0.0</td>\n",
              "      <td>0.0</td>\n",
              "      <td>281.0</td>\n",
              "      <td>0.0</td>\n",
              "      <td>0.0</td>\n",
              "      <td>0.0</td>\n",
              "      <td>0.0</td>\n",
              "      <td>Withdrawn</td>\n",
              "    </tr>\n",
              "    <tr>\n",
              "      <th>3</th>\n",
              "      <td>AAA</td>\n",
              "      <td>2013J</td>\n",
              "      <td>31604</td>\n",
              "      <td>F</td>\n",
              "      <td>South East Region</td>\n",
              "      <td>A Level or Equivalent</td>\n",
              "      <td>50-60%</td>\n",
              "      <td>35-55</td>\n",
              "      <td>0</td>\n",
              "      <td>60</td>\n",
              "      <td>...</td>\n",
              "      <td>71.0</td>\n",
              "      <td>0.0</td>\n",
              "      <td>74.0</td>\n",
              "      <td>0.0</td>\n",
              "      <td>503.0</td>\n",
              "      <td>301.0</td>\n",
              "      <td>184.0</td>\n",
              "      <td>269.0</td>\n",
              "      <td>242.0</td>\n",
              "      <td>Pass</td>\n",
              "    </tr>\n",
              "    <tr>\n",
              "      <th>4</th>\n",
              "      <td>AAA</td>\n",
              "      <td>2013J</td>\n",
              "      <td>32885</td>\n",
              "      <td>F</td>\n",
              "      <td>West Midlands Region</td>\n",
              "      <td>Lower Than A Level</td>\n",
              "      <td>50-60%</td>\n",
              "      <td>0-35</td>\n",
              "      <td>0</td>\n",
              "      <td>60</td>\n",
              "      <td>...</td>\n",
              "      <td>30.0</td>\n",
              "      <td>0.0</td>\n",
              "      <td>63.0</td>\n",
              "      <td>0.0</td>\n",
              "      <td>567.0</td>\n",
              "      <td>35.0</td>\n",
              "      <td>81.0</td>\n",
              "      <td>64.0</td>\n",
              "      <td>78.0</td>\n",
              "      <td>Pass</td>\n",
              "    </tr>\n",
              "  </tbody>\n",
              "</table>\n",
              "<p>5 rows × 22 columns</p>\n",
              "</div>\n",
              "      <button class=\"colab-df-convert\" onclick=\"convertToInteractive('df-c6fd51c9-f917-46d8-9c32-c51a18215e27')\"\n",
              "              title=\"Convert this dataframe to an interactive table.\"\n",
              "              style=\"display:none;\">\n",
              "        \n",
              "  <svg xmlns=\"http://www.w3.org/2000/svg\" height=\"24px\"viewBox=\"0 0 24 24\"\n",
              "       width=\"24px\">\n",
              "    <path d=\"M0 0h24v24H0V0z\" fill=\"none\"/>\n",
              "    <path d=\"M18.56 5.44l.94 2.06.94-2.06 2.06-.94-2.06-.94-.94-2.06-.94 2.06-2.06.94zm-11 1L8.5 8.5l.94-2.06 2.06-.94-2.06-.94L8.5 2.5l-.94 2.06-2.06.94zm10 10l.94 2.06.94-2.06 2.06-.94-2.06-.94-.94-2.06-.94 2.06-2.06.94z\"/><path d=\"M17.41 7.96l-1.37-1.37c-.4-.4-.92-.59-1.43-.59-.52 0-1.04.2-1.43.59L10.3 9.45l-7.72 7.72c-.78.78-.78 2.05 0 2.83L4 21.41c.39.39.9.59 1.41.59.51 0 1.02-.2 1.41-.59l7.78-7.78 2.81-2.81c.8-.78.8-2.07 0-2.86zM5.41 20L4 18.59l7.72-7.72 1.47 1.35L5.41 20z\"/>\n",
              "  </svg>\n",
              "      </button>\n",
              "      \n",
              "  <style>\n",
              "    .colab-df-container {\n",
              "      display:flex;\n",
              "      flex-wrap:wrap;\n",
              "      gap: 12px;\n",
              "    }\n",
              "\n",
              "    .colab-df-convert {\n",
              "      background-color: #E8F0FE;\n",
              "      border: none;\n",
              "      border-radius: 50%;\n",
              "      cursor: pointer;\n",
              "      display: none;\n",
              "      fill: #1967D2;\n",
              "      height: 32px;\n",
              "      padding: 0 0 0 0;\n",
              "      width: 32px;\n",
              "    }\n",
              "\n",
              "    .colab-df-convert:hover {\n",
              "      background-color: #E2EBFA;\n",
              "      box-shadow: 0px 1px 2px rgba(60, 64, 67, 0.3), 0px 1px 3px 1px rgba(60, 64, 67, 0.15);\n",
              "      fill: #174EA6;\n",
              "    }\n",
              "\n",
              "    [theme=dark] .colab-df-convert {\n",
              "      background-color: #3B4455;\n",
              "      fill: #D2E3FC;\n",
              "    }\n",
              "\n",
              "    [theme=dark] .colab-df-convert:hover {\n",
              "      background-color: #434B5C;\n",
              "      box-shadow: 0px 1px 3px 1px rgba(0, 0, 0, 0.15);\n",
              "      filter: drop-shadow(0px 1px 2px rgba(0, 0, 0, 0.3));\n",
              "      fill: #FFFFFF;\n",
              "    }\n",
              "  </style>\n",
              "\n",
              "      <script>\n",
              "        const buttonEl =\n",
              "          document.querySelector('#df-c6fd51c9-f917-46d8-9c32-c51a18215e27 button.colab-df-convert');\n",
              "        buttonEl.style.display =\n",
              "          google.colab.kernel.accessAllowed ? 'block' : 'none';\n",
              "\n",
              "        async function convertToInteractive(key) {\n",
              "          const element = document.querySelector('#df-c6fd51c9-f917-46d8-9c32-c51a18215e27');\n",
              "          const dataTable =\n",
              "            await google.colab.kernel.invokeFunction('convertToInteractive',\n",
              "                                                     [key], {});\n",
              "          if (!dataTable) return;\n",
              "\n",
              "          const docLinkHtml = 'Like what you see? Visit the ' +\n",
              "            '<a target=\"_blank\" href=https://colab.research.google.com/notebooks/data_table.ipynb>data table notebook</a>'\n",
              "            + ' to learn more about interactive tables.';\n",
              "          element.innerHTML = '';\n",
              "          dataTable['output_type'] = 'display_data';\n",
              "          await google.colab.output.renderOutput(dataTable, element);\n",
              "          const docLink = document.createElement('div');\n",
              "          docLink.innerHTML = docLinkHtml;\n",
              "          element.appendChild(docLink);\n",
              "        }\n",
              "      </script>\n",
              "    </div>\n",
              "  </div>\n",
              "  "
            ]
          },
          "metadata": {},
          "execution_count": 25
        }
      ]
    }
  ]
}