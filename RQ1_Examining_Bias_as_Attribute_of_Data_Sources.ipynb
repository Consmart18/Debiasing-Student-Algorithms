{
  "nbformat": 4,
  "nbformat_minor": 0,
  "metadata": {
    "colab": {
      "provenance": []
    },
    "kernelspec": {
      "name": "python3",
      "display_name": "Python 3"
    },
    "language_info": {
      "name": "python"
    }
  },
  "cells": [
    {
      "cell_type": "markdown",
      "source": [
        "## Research: Debiasing Algorithms for Student Progress Monitoring\n",
        "### RQ 1: Examining Bias as an Attribute of the Data Source"
      ],
      "metadata": {
        "id": "3pVmcNcFmz8a"
      }
    },
    {
      "cell_type": "code",
      "execution_count": null,
      "metadata": {
        "colab": {
          "base_uri": "https://localhost:8080/"
        },
        "id": "o4tGvUJvX7RX",
        "outputId": "d42ac678-37fe-4a98-d772-8f71197bebf8"
      },
      "outputs": [
        {
          "output_type": "stream",
          "name": "stdout",
          "text": [
            "Mounted at /content/drive\n"
          ]
        }
      ],
      "source": [
        "from google.colab import drive\n",
        "drive.mount('/content/drive')"
      ]
    },
    {
      "cell_type": "code",
      "source": [
        "import pandas as pd\n",
        "import numpy as np\n",
        "import seaborn as sns\n",
        "import matplotlib.pyplot as plt"
      ],
      "metadata": {
        "id": "8kcMYGIYX_rr"
      },
      "execution_count": null,
      "outputs": []
    },
    {
      "cell_type": "code",
      "source": [
        "# Load the data\n",
        "projectdata_df = pd.read_csv('/content/drive/MyDrive/Colab Notebooks/Project files/studentinfo_120.csv')"
      ],
      "metadata": {
        "id": "Jyt6OooIYbM9"
      },
      "execution_count": null,
      "outputs": []
    },
    {
      "cell_type": "code",
      "source": [
        "projectdata_df.head(2)"
      ],
      "metadata": {
        "colab": {
          "base_uri": "https://localhost:8080/",
          "height": 240
        },
        "id": "27N4BDEgYra4",
        "outputId": "073e73ea-4b97-4a86-84cc-a1bbdeae4818"
      },
      "execution_count": null,
      "outputs": [
        {
          "output_type": "execute_result",
          "data": {
            "text/plain": [
              "  code_module code_presentation  id_student gender               region  \\\n",
              "0         AAA             2013J       11391      M  East Anglian Region   \n",
              "1         AAA             2013J       28400      F             Scotland   \n",
              "\n",
              "  highest_education imd_band age_band  num_of_prev_attempts  studied_credits  \\\n",
              "0  HE Qualification  90-100%     55<=                     0              240   \n",
              "1  HE Qualification   20-30%    35-55                     0               60   \n",
              "\n",
              "   ... score_tma1  score_tma2  score_tma3  score_tma4  late_submission  \\\n",
              "0  ...       78.0        85.0         0.0        80.0          on-time   \n",
              "1  ...       70.0        68.0         0.0        70.0             late   \n",
              "\n",
              "  sum_interaction_30  sum_interaction_60  sum_interaction_90  \\\n",
              "0              419.0               110.0                58.0   \n",
              "1              618.0                51.0               148.0   \n",
              "\n",
              "   sum_interaction_120  final_result  \n",
              "0                 41.0          Pass  \n",
              "1                 87.0          Pass  \n",
              "\n",
              "[2 rows x 21 columns]"
            ],
            "text/html": [
              "\n",
              "  <div id=\"df-8d624e15-3d90-46b7-b981-7bec888de457\">\n",
              "    <div class=\"colab-df-container\">\n",
              "      <div>\n",
              "<style scoped>\n",
              "    .dataframe tbody tr th:only-of-type {\n",
              "        vertical-align: middle;\n",
              "    }\n",
              "\n",
              "    .dataframe tbody tr th {\n",
              "        vertical-align: top;\n",
              "    }\n",
              "\n",
              "    .dataframe thead th {\n",
              "        text-align: right;\n",
              "    }\n",
              "</style>\n",
              "<table border=\"1\" class=\"dataframe\">\n",
              "  <thead>\n",
              "    <tr style=\"text-align: right;\">\n",
              "      <th></th>\n",
              "      <th>code_module</th>\n",
              "      <th>code_presentation</th>\n",
              "      <th>id_student</th>\n",
              "      <th>gender</th>\n",
              "      <th>region</th>\n",
              "      <th>highest_education</th>\n",
              "      <th>imd_band</th>\n",
              "      <th>age_band</th>\n",
              "      <th>num_of_prev_attempts</th>\n",
              "      <th>studied_credits</th>\n",
              "      <th>...</th>\n",
              "      <th>score_tma1</th>\n",
              "      <th>score_tma2</th>\n",
              "      <th>score_tma3</th>\n",
              "      <th>score_tma4</th>\n",
              "      <th>late_submission</th>\n",
              "      <th>sum_interaction_30</th>\n",
              "      <th>sum_interaction_60</th>\n",
              "      <th>sum_interaction_90</th>\n",
              "      <th>sum_interaction_120</th>\n",
              "      <th>final_result</th>\n",
              "    </tr>\n",
              "  </thead>\n",
              "  <tbody>\n",
              "    <tr>\n",
              "      <th>0</th>\n",
              "      <td>AAA</td>\n",
              "      <td>2013J</td>\n",
              "      <td>11391</td>\n",
              "      <td>M</td>\n",
              "      <td>East Anglian Region</td>\n",
              "      <td>HE Qualification</td>\n",
              "      <td>90-100%</td>\n",
              "      <td>55&lt;=</td>\n",
              "      <td>0</td>\n",
              "      <td>240</td>\n",
              "      <td>...</td>\n",
              "      <td>78.0</td>\n",
              "      <td>85.0</td>\n",
              "      <td>0.0</td>\n",
              "      <td>80.0</td>\n",
              "      <td>on-time</td>\n",
              "      <td>419.0</td>\n",
              "      <td>110.0</td>\n",
              "      <td>58.0</td>\n",
              "      <td>41.0</td>\n",
              "      <td>Pass</td>\n",
              "    </tr>\n",
              "    <tr>\n",
              "      <th>1</th>\n",
              "      <td>AAA</td>\n",
              "      <td>2013J</td>\n",
              "      <td>28400</td>\n",
              "      <td>F</td>\n",
              "      <td>Scotland</td>\n",
              "      <td>HE Qualification</td>\n",
              "      <td>20-30%</td>\n",
              "      <td>35-55</td>\n",
              "      <td>0</td>\n",
              "      <td>60</td>\n",
              "      <td>...</td>\n",
              "      <td>70.0</td>\n",
              "      <td>68.0</td>\n",
              "      <td>0.0</td>\n",
              "      <td>70.0</td>\n",
              "      <td>late</td>\n",
              "      <td>618.0</td>\n",
              "      <td>51.0</td>\n",
              "      <td>148.0</td>\n",
              "      <td>87.0</td>\n",
              "      <td>Pass</td>\n",
              "    </tr>\n",
              "  </tbody>\n",
              "</table>\n",
              "<p>2 rows × 21 columns</p>\n",
              "</div>\n",
              "      <button class=\"colab-df-convert\" onclick=\"convertToInteractive('df-8d624e15-3d90-46b7-b981-7bec888de457')\"\n",
              "              title=\"Convert this dataframe to an interactive table.\"\n",
              "              style=\"display:none;\">\n",
              "        \n",
              "  <svg xmlns=\"http://www.w3.org/2000/svg\" height=\"24px\"viewBox=\"0 0 24 24\"\n",
              "       width=\"24px\">\n",
              "    <path d=\"M0 0h24v24H0V0z\" fill=\"none\"/>\n",
              "    <path d=\"M18.56 5.44l.94 2.06.94-2.06 2.06-.94-2.06-.94-.94-2.06-.94 2.06-2.06.94zm-11 1L8.5 8.5l.94-2.06 2.06-.94-2.06-.94L8.5 2.5l-.94 2.06-2.06.94zm10 10l.94 2.06.94-2.06 2.06-.94-2.06-.94-.94-2.06-.94 2.06-2.06.94z\"/><path d=\"M17.41 7.96l-1.37-1.37c-.4-.4-.92-.59-1.43-.59-.52 0-1.04.2-1.43.59L10.3 9.45l-7.72 7.72c-.78.78-.78 2.05 0 2.83L4 21.41c.39.39.9.59 1.41.59.51 0 1.02-.2 1.41-.59l7.78-7.78 2.81-2.81c.8-.78.8-2.07 0-2.86zM5.41 20L4 18.59l7.72-7.72 1.47 1.35L5.41 20z\"/>\n",
              "  </svg>\n",
              "      </button>\n",
              "      \n",
              "  <style>\n",
              "    .colab-df-container {\n",
              "      display:flex;\n",
              "      flex-wrap:wrap;\n",
              "      gap: 12px;\n",
              "    }\n",
              "\n",
              "    .colab-df-convert {\n",
              "      background-color: #E8F0FE;\n",
              "      border: none;\n",
              "      border-radius: 50%;\n",
              "      cursor: pointer;\n",
              "      display: none;\n",
              "      fill: #1967D2;\n",
              "      height: 32px;\n",
              "      padding: 0 0 0 0;\n",
              "      width: 32px;\n",
              "    }\n",
              "\n",
              "    .colab-df-convert:hover {\n",
              "      background-color: #E2EBFA;\n",
              "      box-shadow: 0px 1px 2px rgba(60, 64, 67, 0.3), 0px 1px 3px 1px rgba(60, 64, 67, 0.15);\n",
              "      fill: #174EA6;\n",
              "    }\n",
              "\n",
              "    [theme=dark] .colab-df-convert {\n",
              "      background-color: #3B4455;\n",
              "      fill: #D2E3FC;\n",
              "    }\n",
              "\n",
              "    [theme=dark] .colab-df-convert:hover {\n",
              "      background-color: #434B5C;\n",
              "      box-shadow: 0px 1px 3px 1px rgba(0, 0, 0, 0.15);\n",
              "      filter: drop-shadow(0px 1px 2px rgba(0, 0, 0, 0.3));\n",
              "      fill: #FFFFFF;\n",
              "    }\n",
              "  </style>\n",
              "\n",
              "      <script>\n",
              "        const buttonEl =\n",
              "          document.querySelector('#df-8d624e15-3d90-46b7-b981-7bec888de457 button.colab-df-convert');\n",
              "        buttonEl.style.display =\n",
              "          google.colab.kernel.accessAllowed ? 'block' : 'none';\n",
              "\n",
              "        async function convertToInteractive(key) {\n",
              "          const element = document.querySelector('#df-8d624e15-3d90-46b7-b981-7bec888de457');\n",
              "          const dataTable =\n",
              "            await google.colab.kernel.invokeFunction('convertToInteractive',\n",
              "                                                     [key], {});\n",
              "          if (!dataTable) return;\n",
              "\n",
              "          const docLinkHtml = 'Like what you see? Visit the ' +\n",
              "            '<a target=\"_blank\" href=https://colab.research.google.com/notebooks/data_table.ipynb>data table notebook</a>'\n",
              "            + ' to learn more about interactive tables.';\n",
              "          element.innerHTML = '';\n",
              "          dataTable['output_type'] = 'display_data';\n",
              "          await google.colab.output.renderOutput(dataTable, element);\n",
              "          const docLink = document.createElement('div');\n",
              "          docLink.innerHTML = docLinkHtml;\n",
              "          element.appendChild(docLink);\n",
              "        }\n",
              "      </script>\n",
              "    </div>\n",
              "  </div>\n",
              "  "
            ]
          },
          "metadata": {},
          "execution_count": 5
        }
      ]
    },
    {
      "cell_type": "markdown",
      "source": [
        "### Data Pre-processing"
      ],
      "metadata": {
        "id": "DDEgC6ajnLGV"
      }
    },
    {
      "cell_type": "code",
      "source": [
        "# drop identifiers\n",
        "df = projectdata_df.drop(['code_module', 'code_presentation', 'id_student', 'late_submission'], axis=1)"
      ],
      "metadata": {
        "id": "B9ndctmGY0JU"
      },
      "execution_count": null,
      "outputs": []
    },
    {
      "cell_type": "code",
      "source": [
        "# fill missing values in imd_band and convert to label\n",
        "mapping = {'0-10%': 1, '10-20%': 2, '20-30%': 3, '30-40%': 4, '40-50%': 5,\n",
        "           '50-60%': 6, '60-70%': 7, '70-80%': 8, '80-90%': 9, '90-100%': 10}\n",
        "df['imd_band'] = df['imd_band'].map(mapping)\n",
        "\n",
        "# fill missing values with mode\n",
        "df['imd_band'].fillna(df['imd_band'].mode()[0], inplace=True)\n",
        "\n",
        "# convert age_band to label as well\n",
        "mapping = {'0-35': 0, '35-55': 1, '55<=': 1}\n",
        "df['age_band'] = df['age_band'].map(mapping)"
      ],
      "metadata": {
        "id": "lcHwgLBNZCPQ"
      },
      "execution_count": null,
      "outputs": []
    },
    {
      "cell_type": "code",
      "source": [
        "# Change gender and disability to binary\n",
        "\n",
        "from sklearn.preprocessing import LabelEncoder\n",
        "\n",
        "le = LabelEncoder()\n",
        "df['gender'] = le.fit_transform(df['gender'])\n",
        "df['disability'] = le.fit_transform(df['disability'])"
      ],
      "metadata": {
        "id": "jsKNiUcnZR63"
      },
      "execution_count": null,
      "outputs": []
    },
    {
      "cell_type": "code",
      "source": [
        "# one-hot encode region, highest education, and late submission\n",
        "\n",
        "df = pd.get_dummies(df, columns=['region'], prefix = ['Reg'])\n",
        "\n",
        "df = pd.get_dummies(df, columns=['highest_education'], prefix = ['Edu'])"
      ],
      "metadata": {
        "id": "S2klx0VEZU8I"
      },
      "execution_count": null,
      "outputs": []
    },
    {
      "cell_type": "code",
      "source": [
        "# Combine pass and distinction to be 'Pass'; also combine Fail & Withdrawn to be 'At Risk'\n",
        "df['final_result'] = df['final_result'].replace(['Pass', 'Distinction'], 'Pass')\n",
        "df['final_result'] = df['final_result'].replace(['Fail', 'Withdrawn'], 'At Risk')\n",
        "# final_result to binary\n",
        "mapping = {'Pass': 0, 'At Risk': 1}\n",
        "df['final_result'] = df['final_result'].map(mapping)"
      ],
      "metadata": {
        "id": "jZEKqhOfjzCb"
      },
      "execution_count": null,
      "outputs": []
    },
    {
      "cell_type": "code",
      "source": [
        "# get a list of all the columns\n",
        "cols = list(df.columns)\n",
        "\n",
        "# move 'final_result' to the end of the list\n",
        "cols.append(cols.pop(cols.index('final_result')))\n",
        "\n",
        "# reorder the dataframe\n",
        "df = df[cols]"
      ],
      "metadata": {
        "id": "Q40m8DlYcoYq"
      },
      "execution_count": null,
      "outputs": []
    },
    {
      "cell_type": "code",
      "source": [
        "df_inst = df[['gender', 'imd_band', 'age_band', 'num_of_prev_attempts', 'studied_credits', 'disability',\n",
        "                         'Reg_East Anglian Region', 'Reg_East Midlands Region', 'Reg_Ireland', 'Reg_London Region',\n",
        "                         'Reg_North Region', 'Reg_North Western Region', 'Reg_Scotland', 'Reg_South East Region',\n",
        "                         'Reg_South Region', 'Reg_South West Region', 'Reg_Wales', 'Reg_West Midlands Region',\n",
        "                         'Reg_Yorkshire Region', 'Edu_A Level or Equivalent', 'Edu_HE Qualification', 'Edu_Lower Than A Level',\n",
        "                         'Edu_No Formal quals','Edu_Post Graduate Qualification','final_result']]\n",
        "df_vle = df[['gender', 'age_band', 'disability', 'sum_interaction_30', 'sum_interaction_60', 'sum_interaction_90', 'sum_interaction_120', 'final_result']]\n",
        "df_perf = df[['gender', 'age_band', 'disability', 'score_tma1', 'score_tma2', 'score_tma3', 'score_tma4', 'final_result']]"
      ],
      "metadata": {
        "id": "dfWzflK03O0N"
      },
      "execution_count": null,
      "outputs": []
    },
    {
      "cell_type": "markdown",
      "source": [
        "## Model Building"
      ],
      "metadata": {
        "id": "QcALej9OnTnJ"
      }
    },
    {
      "cell_type": "markdown",
      "source": [
        "### 1. Institutional Dataset"
      ],
      "metadata": {
        "id": "EVMYFrHRndWx"
      }
    },
    {
      "cell_type": "code",
      "source": [
        "X = df_inst.drop(columns='final_result')\n",
        "y = df_inst['final_result']"
      ],
      "metadata": {
        "id": "0CyGeoe5bpe6"
      },
      "execution_count": null,
      "outputs": []
    },
    {
      "cell_type": "code",
      "source": [
        "from sklearn.model_selection import train_test_split\n",
        "\n",
        "X_train, X_test, y_train, y_test = train_test_split(X, y, test_size=0.3, random_state=42)\n",
        "\n",
        "from sklearn.linear_model import LogisticRegression\n",
        "from sklearn.metrics import accuracy_score\n",
        "\n",
        "lr = LogisticRegression(solver='lbfgs', max_iter=3000)\n",
        "lr.fit(X_train, y_train)\n",
        "\n",
        "# Make predictions\n",
        "y_pred_lr = lr.predict(X_test)\n",
        "\n",
        "LR_score = accuracy_score(y_test, y_pred_lr)"
      ],
      "metadata": {
        "id": "I6douWFWdVUz"
      },
      "execution_count": null,
      "outputs": []
    },
    {
      "cell_type": "code",
      "source": [
        "pip install holisticai"
      ],
      "metadata": {
        "id": "tnygjyJrj16V"
      },
      "execution_count": null,
      "outputs": []
    },
    {
      "cell_type": "code",
      "source": [
        "def compute_fairness(sensitive_feature):\n",
        "\n",
        "  # Group data by gender\n",
        "  group_a = (X_test[sensitive_feature] == 1).values  # assuming 1 represents 'male'\n",
        "  group_b = (X_test[sensitive_feature] == 0).values  # assuming 0 represents 'female'\n",
        "\n",
        "  # Calculate ABROCA\n",
        "  from holisticai.bias.metrics import abroca\n",
        "  abroca_value = abroca(group_a, group_b, lr.predict_proba(X_test)[:, 1], y_test)\n",
        "  print(f'ABROCA value: {abroca_value}')\n",
        "\n",
        "  # Calculate Average Odds Difference\n",
        "  from holisticai.bias.metrics import average_odds_diff\n",
        "  aod_value = average_odds_diff(group_a, group_b, y_pred_lr, y_test)\n",
        "  print(f'Average Odds Difference value: {aod_value}')\n",
        "\n",
        "  # Calculate Equal Opportunity Difference\n",
        "  from holisticai.bias.metrics import equal_opportunity_diff\n",
        "  eod_value = equal_opportunity_diff(group_a, group_b, y_pred_lr, y_test)\n",
        "  print(f'Equal Opportunity Difference value: {eod_value}')"
      ],
      "metadata": {
        "id": "-2s4qHlHnykH"
      },
      "execution_count": null,
      "outputs": []
    },
    {
      "cell_type": "code",
      "source": [
        "# print the results for logistic regression\n",
        "print('Logistic Regression accuracy:', LR_score)\n",
        "print('\\nGender')\n",
        "compute_fairness('gender')\n",
        "print(f'\\nDisability')\n",
        "compute_fairness('disability')\n",
        "print(f'\\nAge')\n",
        "compute_fairness('age_band')"
      ],
      "metadata": {
        "colab": {
          "base_uri": "https://localhost:8080/"
        },
        "id": "YwepyPf1nz84",
        "outputId": "286d4ed8-f037-4c26-e2f3-f2d33cdbaa66"
      },
      "execution_count": null,
      "outputs": [
        {
          "output_type": "stream",
          "name": "stdout",
          "text": [
            "Logistic Regression accuracy: 0.60288402536306\n",
            "\n",
            "Gender\n",
            "ABROCA value: -0.02195433167305083\n",
            "Average Odds Difference value: 0.0708504264051775\n",
            "Equal Opportunity Difference value: 0.04791956215900073\n",
            "\n",
            "Disability\n",
            "ABROCA value: 0.0253639830609369\n",
            "Average Odds Difference value: 0.2736658850659256\n",
            "Equal Opportunity Difference value: 0.255111805072466\n",
            "\n",
            "Age\n",
            "ABROCA value: 0.011370795417411261\n",
            "Average Odds Difference value: -0.23188721736400636\n",
            "Equal Opportunity Difference value: -0.2209298180593945\n"
          ]
        }
      ]
    },
    {
      "cell_type": "code",
      "source": [
        "from sklearn.ensemble import GradientBoostingClassifier\n",
        "\n",
        "gb = GradientBoostingClassifier(random_state=42)\n",
        "gb.fit(X_train, y_train)\n",
        "\n",
        "# Make predictions\n",
        "y_pred_gb = gb.predict(X_test)\n",
        "\n",
        "GB_score = accuracy_score(y_test, y_pred_gb)"
      ],
      "metadata": {
        "id": "8KA239-5df2o"
      },
      "execution_count": null,
      "outputs": []
    },
    {
      "cell_type": "code",
      "source": [
        "def compute_fairness1(sensitive_feature):\n",
        "\n",
        "  # Group data by gender\n",
        "  group_a = (X_test[sensitive_feature] == 1).values  # assuming 1 represents 'male'\n",
        "  group_b = (X_test[sensitive_feature] == 0).values  # assuming 0 represents 'female'\n",
        "\n",
        "  # Calculate ABROCA\n",
        "  from holisticai.bias.metrics import abroca\n",
        "  abroca_value = abroca(group_a, group_b, gb.predict_proba(X_test)[:, 1], y_test)\n",
        "  print(f'ABROCA value: {abroca_value}')\n",
        "\n",
        "  # Calculate Average Odds Difference\n",
        "  from holisticai.bias.metrics import average_odds_diff\n",
        "  aod_value = average_odds_diff(group_a, group_b, y_pred_gb, y_test)\n",
        "  print(f'Average Odds Difference value: {aod_value}')\n",
        "\n",
        "  # Calculate Equal Opportunity Difference\n",
        "  from holisticai.bias.metrics import equal_opportunity_diff\n",
        "  eod_value = equal_opportunity_diff(group_a, group_b, y_pred_gb, y_test)\n",
        "  print(f'Equal Opportunity Difference value: {eod_value}')"
      ],
      "metadata": {
        "id": "Svv4MBsdpxKn"
      },
      "execution_count": null,
      "outputs": []
    },
    {
      "cell_type": "code",
      "source": [
        "# print the results for Gradient Boosting\n",
        "print('Gradient Boosting accuracy:', GB_score)\n",
        "print('\\nGender')\n",
        "compute_fairness1('gender')\n",
        "print(f'\\nDisability')\n",
        "compute_fairness1('disability')\n",
        "print(f'\\nAge')\n",
        "compute_fairness1('age_band')"
      ],
      "metadata": {
        "colab": {
          "base_uri": "https://localhost:8080/"
        },
        "id": "CC7k_oW9p9fb",
        "outputId": "f6943084-cd8b-45e8-9cb1-14c288e07b86"
      },
      "execution_count": null,
      "outputs": [
        {
          "output_type": "stream",
          "name": "stdout",
          "text": [
            "Gradient Boosting accuracy: 0.6074861934956024\n",
            "\n",
            "Gender\n",
            "ABROCA value: -0.02235633800363923\n",
            "Average Odds Difference value: 0.04620970591992407\n",
            "Equal Opportunity Difference value: 0.02691059935627349\n",
            "\n",
            "Disability\n",
            "ABROCA value: 0.01969909497009259\n",
            "Average Odds Difference value: 0.21242863070569135\n",
            "Equal Opportunity Difference value: 0.20894379824356213\n",
            "\n",
            "Age\n",
            "ABROCA value: 0.010824943129795317\n",
            "Average Odds Difference value: -0.22363370179670397\n",
            "Equal Opportunity Difference value: -0.2062961087362234\n"
          ]
        }
      ]
    },
    {
      "cell_type": "code",
      "source": [
        "from sklearn.ensemble import RandomForestClassifier\n",
        "\n",
        "rf = RandomForestClassifier(n_estimators=100, random_state=42)\n",
        "rf.fit(X_train, y_train)\n",
        "\n",
        "# Make predictions\n",
        "y_pred_rf = rf.predict(X_test)\n",
        "\n",
        "RF_score = accuracy_score(y_test, y_pred_rf)"
      ],
      "metadata": {
        "id": "kyTl_V6tfSC7"
      },
      "execution_count": null,
      "outputs": []
    },
    {
      "cell_type": "code",
      "source": [
        "def compute_fairness2(sensitive_feature):\n",
        "\n",
        "  # Group data by gender\n",
        "  group_a = (X_test[sensitive_feature] == 1).values  # assuming 1 represents 'male'\n",
        "  group_b = (X_test[sensitive_feature] == 0).values  # assuming 0 represents 'female'\n",
        "\n",
        "  # Calculate ABROCA\n",
        "  from holisticai.bias.metrics import abroca\n",
        "  abroca_value = abroca(group_a, group_b, rf.predict_proba(X_test)[:, 1], y_test)\n",
        "  print(f'ABROCA value: {abroca_value}')\n",
        "\n",
        "  # Calculate Average Odds Difference\n",
        "  from holisticai.bias.metrics import average_odds_diff\n",
        "  aod_value = average_odds_diff(group_a, group_b, y_pred_rf, y_test)\n",
        "  print(f'Average Odds Difference value: {aod_value}')\n",
        "\n",
        "  # Calculate Equal Opportunity Difference\n",
        "  from holisticai.bias.metrics import equal_opportunity_diff\n",
        "  eod_value = equal_opportunity_diff(group_a, group_b, y_pred_rf, y_test)\n",
        "  print(f'Equal Opportunity Difference value: {eod_value}')"
      ],
      "metadata": {
        "id": "GKf6vy4N3Mf1"
      },
      "execution_count": null,
      "outputs": []
    },
    {
      "cell_type": "code",
      "source": [
        "# print the results for Random Forest\n",
        "print('Random Forest accuracy:', RF_score)\n",
        "print('\\nGender')\n",
        "compute_fairness2('gender')\n",
        "print(f'\\nDisability')\n",
        "compute_fairness2('disability')\n",
        "print(f'\\nAge')\n",
        "compute_fairness2('age_band')"
      ],
      "metadata": {
        "colab": {
          "base_uri": "https://localhost:8080/"
        },
        "id": "wsu6jD__qaqG",
        "outputId": "4aa8ca45-4ae8-45cd-9ea3-3724d2617a55"
      },
      "execution_count": null,
      "outputs": [
        {
          "output_type": "stream",
          "name": "stdout",
          "text": [
            "Random Forest accuracy: 0.5617713233790141\n",
            "\n",
            "Gender\n",
            "ABROCA value: 0.005823502414503912\n",
            "Average Odds Difference value: 0.04984604578348406\n",
            "Equal Opportunity Difference value: 0.05002285994997557\n",
            "\n",
            "Disability\n",
            "ABROCA value: 0.022353864463591777\n",
            "Average Odds Difference value: 0.126965699016538\n",
            "Equal Opportunity Difference value: 0.14801375501611536\n",
            "\n",
            "Age\n",
            "ABROCA value: 0.009146827110555256\n",
            "Average Odds Difference value: -0.11483072366529423\n",
            "Equal Opportunity Difference value: -0.10445218365505127\n"
          ]
        }
      ]
    },
    {
      "cell_type": "markdown",
      "source": [
        "## 2. VLE Dataset"
      ],
      "metadata": {
        "id": "QO2KPwtdn1g_"
      }
    },
    {
      "cell_type": "code",
      "source": [
        "def compute_fairness_vp(data, sensitive_feature, y_pred, y_test):\n",
        "  # Group data by sensitive feature\n",
        "  group_a = (data[sensitive_feature] == 1).values\n",
        "  group_b = (data[sensitive_feature] == 0).values\n",
        "\n",
        "  # Calculate ABROCA\n",
        "  from holisticai.bias.metrics import abroca\n",
        "  abroca_value = abroca(group_a, group_b, y_pred, y_test)\n",
        "  print(f'{sensitive_feature} ABROCA value: {abroca_value}')\n",
        "\n",
        "  # Calculate Average Odds Difference\n",
        "  from holisticai.bias.metrics import average_odds_diff\n",
        "  aod_value = average_odds_diff(group_a, group_b, y_pred, y_test)\n",
        "  print(f'{sensitive_feature} Average Odds Difference value: {aod_value}')\n",
        "\n",
        "  # Calculate Equal Opportunity Difference\n",
        "  from holisticai.bias.metrics import equal_opportunity_diff\n",
        "  eod_value = equal_opportunity_diff(group_a, group_b, y_pred, y_test)\n",
        "  print(f'{sensitive_feature} Equal Opportunity Difference value: {eod_value}')"
      ],
      "metadata": {
        "id": "VAxjFQmdnz5E"
      },
      "execution_count": null,
      "outputs": []
    },
    {
      "cell_type": "code",
      "source": [
        "# Create a DataFrame only for the sensitive features\n",
        "sensitive_features = df_vle[['gender', 'age_band', 'disability']]\n",
        "\n",
        "# Split your data into training and test sets, keeping track of the indices\n",
        "from sklearn.model_selection import train_test_split\n",
        "\n",
        "X = df_vle.drop(columns=['final_result', 'gender', 'age_band', 'disability'])\n",
        "y = df_vle['final_result']\n",
        "\n",
        "X_train, X_test, y_train, y_test = train_test_split(X, y, test_size=0.3, random_state=42)\n",
        "\n",
        "# Keep track of the indices of the training and test sets\n",
        "train_indices = X_train.index\n",
        "test_indices = X_test.index\n",
        "\n",
        "# Define sensitive feature for the training and test sets based on the indices\n",
        "train_sensitive = sensitive_features.iloc[train_indices]\n",
        "test_sensitive = sensitive_features.iloc[test_indices]\n",
        "\n",
        "# Train your model\n",
        "from sklearn.linear_model import LogisticRegression\n",
        "from sklearn.metrics import accuracy_score\n",
        "\n",
        "lr = LogisticRegression(solver='lbfgs', max_iter=3000)\n",
        "lr.fit(X_train, y_train)\n",
        "\n",
        "# Make predictions\n",
        "y_pred_lr = lr.predict(X_test)\n",
        "\n",
        "# Print out accuracy\n",
        "print(f'Logistic Regression accuracy: {accuracy_score(y_test, y_pred_lr)}')\n",
        "\n",
        "# Compute fairness for each sensitive feature\n",
        "for feature in ['gender', 'age_band', 'disability']:\n",
        "  print()\n",
        "  compute_fairness_vp(test_sensitive, feature, y_pred_lr, y_test)"
      ],
      "metadata": {
        "colab": {
          "base_uri": "https://localhost:8080/"
        },
        "id": "7eUOv0Pepokm",
        "outputId": "65faf439-fb30-4fc9-9ac8-4c6476f662fc"
      },
      "execution_count": null,
      "outputs": [
        {
          "output_type": "stream",
          "name": "stdout",
          "text": [
            "Logistic Regression accuracy: 0.7337901411331561\n",
            "\n",
            "gender ABROCA value: 0.05124741778362052\n",
            "gender Average Odds Difference value: -0.10231143901905518\n",
            "gender Equal Opportunity Difference value: -0.05106402123543441\n",
            "\n",
            "age_band ABROCA value: 0.04193191085675363\n",
            "age_band Average Odds Difference value: -0.07203486247599955\n",
            "age_band Equal Opportunity Difference value: -0.03010295161924592\n",
            "\n",
            "disability ABROCA value: -0.02701565706071085\n",
            "disability Average Odds Difference value: 0.038449817983463336\n",
            "disability Equal Opportunity Difference value: 0.011434160922752512\n"
          ]
        }
      ]
    },
    {
      "cell_type": "code",
      "source": [
        "# Gradient Boosting model\n",
        "gb = GradientBoostingClassifier()\n",
        "gb.fit(X_train, y_train)\n",
        "\n",
        "# Make predictions\n",
        "y_pred_gb = gb.predict(X_test)\n",
        "\n",
        "# Print out accuracy\n",
        "print('Gradient Boosting accuracy:', accuracy_score(y_test, y_pred_gb))\n",
        "\n",
        "# Compute fairness for each sensitive feature\n",
        "for feature in ['gender', 'age_band', 'disability']:\n",
        "  print()\n",
        "  compute_fairness_vp(test_sensitive, feature, y_pred_gb, y_test)"
      ],
      "metadata": {
        "colab": {
          "base_uri": "https://localhost:8080/"
        },
        "id": "KHDrhuZXpwUX",
        "outputId": "e67f808d-ab15-4109-9033-895474166d4d"
      },
      "execution_count": null,
      "outputs": [
        {
          "output_type": "stream",
          "name": "stdout",
          "text": [
            "Gradient Boosting accuracy: 0.8104929433421968\n",
            "\n",
            "gender ABROCA value: -0.004763111866082581\n",
            "gender Average Odds Difference value: -0.03467911751405996\n",
            "gender Equal Opportunity Difference value: -0.039442229380142635\n",
            "\n",
            "age_band ABROCA value: 0.0011040989981137006\n",
            "age_band Average Odds Difference value: -0.012767611197743743\n",
            "age_band Equal Opportunity Difference value: -0.011663512199630133\n",
            "\n",
            "disability ABROCA value: -0.006026458710474025\n",
            "disability Average Odds Difference value: 0.022605840160036396\n",
            "disability Equal Opportunity Difference value: 0.01657938144956239\n"
          ]
        }
      ]
    },
    {
      "cell_type": "code",
      "source": [
        "# Random Forest model\n",
        "rf = RandomForestClassifier()\n",
        "rf.fit(X_train, y_train)\n",
        "\n",
        "# Make predictions\n",
        "y_pred_rf = rf.predict(X_test)\n",
        "\n",
        "# Print out accuracy\n",
        "print('Random Forest accuracy:', accuracy_score(y_test, y_pred_rf))\n",
        "\n",
        "# Compute fairness for each sensitive feature\n",
        "for feature in ['gender', 'age_band', 'disability']:\n",
        "  print()\n",
        "  compute_fairness_vp(test_sensitive, feature, y_pred_rf, y_test)"
      ],
      "metadata": {
        "colab": {
          "base_uri": "https://localhost:8080/"
        },
        "id": "XVuuZU8ZrNMG",
        "outputId": "aea170e8-237e-40c5-d098-b228d35304b2"
      },
      "execution_count": null,
      "outputs": [
        {
          "output_type": "stream",
          "name": "stdout",
          "text": [
            "Random Forest accuracy: 0.7944364900797709\n",
            "\n",
            "gender ABROCA value: -0.0026064807259251754\n",
            "gender Average Odds Difference value: -0.029254270563898954\n",
            "gender Equal Opportunity Difference value: -0.03186075128982402\n",
            "\n",
            "age_band ABROCA value: 0.012401022368289327\n",
            "age_band Average Odds Difference value: -0.026837636441644677\n",
            "age_band Equal Opportunity Difference value: -0.01443661407335528\n",
            "\n",
            "disability ABROCA value: -0.004695709411089766\n",
            "disability Average Odds Difference value: 0.021913781703906524\n",
            "disability Equal Opportunity Difference value: 0.01721807229281669\n"
          ]
        }
      ]
    },
    {
      "cell_type": "markdown",
      "source": [
        "### 3. Performance Dataset"
      ],
      "metadata": {
        "id": "KGtZvOkus9h2"
      }
    },
    {
      "cell_type": "code",
      "source": [
        "# Create a DataFrame only for the sensitive features\n",
        "sensitive_features = df_perf[['gender', 'age_band', 'disability']]\n",
        "\n",
        "# Split your data into training and test sets, keeping track of the indices\n",
        "from sklearn.model_selection import train_test_split\n",
        "\n",
        "X = df_perf.drop(columns=['final_result', 'gender', 'age_band', 'disability'])\n",
        "y = df_perf['final_result']\n",
        "\n",
        "X_train, X_test, y_train, y_test = train_test_split(X, y, test_size=0.3, random_state=42)\n",
        "\n",
        "# Keep track of the indices of the training and test sets\n",
        "train_indices = X_train.index\n",
        "test_indices = X_test.index\n",
        "\n",
        "# Define sensitive feature for the training and test sets based on the indices\n",
        "train_sensitive = sensitive_features.iloc[train_indices]\n",
        "test_sensitive = sensitive_features.iloc[test_indices]\n",
        "\n",
        "# Train your model\n",
        "from sklearn.linear_model import LogisticRegression\n",
        "from sklearn.metrics import accuracy_score\n",
        "\n",
        "lr = LogisticRegression(solver='lbfgs', max_iter=3000)\n",
        "lr.fit(X_train, y_train)\n",
        "\n",
        "# Make predictions\n",
        "y_pred_lr = lr.predict(X_test)\n",
        "\n",
        "# Print out accuracy\n",
        "print('Logistic Regression accuracy:', accuracy_score(y_test, y_pred_lr))\n",
        "\n",
        "# Compute fairness for each sensitive feature\n",
        "for feature in ['gender', 'age_band', 'disability']:\n",
        "  print()\n",
        "  compute_fairness_vp(test_sensitive, feature, y_pred_lr, y_test)"
      ],
      "metadata": {
        "colab": {
          "base_uri": "https://localhost:8080/"
        },
        "id": "F2y7Jj6BsY53",
        "outputId": "3fa283ca-821b-4a47-f775-6ae15799c12a"
      },
      "execution_count": null,
      "outputs": [
        {
          "output_type": "stream",
          "name": "stdout",
          "text": [
            "Logistic Regression accuracy: 0.7877889138883207\n",
            "\n",
            "gender ABROCA value: 0.031081198538596033\n",
            "gender Average Odds Difference value: -0.08404089328530676\n",
            "gender Equal Opportunity Difference value: -0.052959694746710584\n",
            "\n",
            "age_band ABROCA value: -0.008198378895587388\n",
            "age_band Average Odds Difference value: 0.021293802230721998\n",
            "age_band Equal Opportunity Difference value: 0.013095423335134582\n",
            "\n",
            "disability ABROCA value: -0.0005234015011577053\n",
            "disability Average Odds Difference value: 0.045608443832462736\n",
            "disability Equal Opportunity Difference value: 0.04508504233130506\n"
          ]
        }
      ]
    },
    {
      "cell_type": "code",
      "source": [
        "# Gradient Boosting model\n",
        "gb = GradientBoostingClassifier()\n",
        "gb.fit(X_train, y_train)\n",
        "\n",
        "# Make predictions\n",
        "y_pred_gb = gb.predict(X_test)\n",
        "\n",
        "# Print out accuracy\n",
        "print('Gradient Boosting accuracy:', accuracy_score(y_test, y_pred_gb))\n",
        "\n",
        "# Compute fairness for each sensitive feature\n",
        "for feature in ['gender', 'age_band', 'disability']:\n",
        "  print()\n",
        "  compute_fairness_vp(test_sensitive, feature, y_pred_gb, y_test)"
      ],
      "metadata": {
        "colab": {
          "base_uri": "https://localhost:8080/"
        },
        "id": "mTv9vtkat8vv",
        "outputId": "befcedac-024e-48c7-d91d-105ef70ffd40"
      },
      "execution_count": null,
      "outputs": [
        {
          "output_type": "stream",
          "name": "stdout",
          "text": [
            "Gradient Boosting accuracy: 0.8176518715483739\n",
            "\n",
            "gender ABROCA value: 0.0003718679450395168\n",
            "gender Average Odds Difference value: -0.012270897491524851\n",
            "gender Equal Opportunity Difference value: -0.011899029546485362\n",
            "\n",
            "age_band ABROCA value: 0.010074434667711407\n",
            "age_band Average Odds Difference value: 0.012411021306019218\n",
            "age_band Equal Opportunity Difference value: 0.02248545597373075\n",
            "\n",
            "disability ABROCA value: 0.020265188890952635\n",
            "disability Average Odds Difference value: 0.03200797333500276\n",
            "disability Equal Opportunity Difference value: 0.05227316222595535\n"
          ]
        }
      ]
    },
    {
      "cell_type": "code",
      "source": [
        "# Random Forest model\n",
        "rf = RandomForestClassifier()\n",
        "rf.fit(X_train, y_train)\n",
        "\n",
        "# Make predictions\n",
        "y_pred_rf = rf.predict(X_test)\n",
        "\n",
        "# Print out accuracy\n",
        "print('Random Forest accuracy:', accuracy_score(y_test, y_pred_rf))\n",
        "\n",
        "# Compute fairness for each sensitive feature\n",
        "for feature in ['gender', 'age_band', 'disability']:\n",
        "  print()\n",
        "  compute_fairness_vp(test_sensitive, feature, y_pred_rf, y_test)"
      ],
      "metadata": {
        "colab": {
          "base_uri": "https://localhost:8080/"
        },
        "id": "4KixDCS3tBrs",
        "outputId": "87f45ffc-990b-4720-e8d7-cc2e47f70782"
      },
      "execution_count": null,
      "outputs": [
        {
          "output_type": "stream",
          "name": "stdout",
          "text": [
            "Random Forest accuracy: 0.7994477398240949\n",
            "\n",
            "gender ABROCA value: -0.010577482478086653\n",
            "gender Average Odds Difference value: 0.006255675180169201\n",
            "gender Equal Opportunity Difference value: -0.004321807297917535\n",
            "\n",
            "age_band ABROCA value: 0.0054053893401826425\n",
            "age_band Average Odds Difference value: 0.009887881790267075\n",
            "age_band Equal Opportunity Difference value: 0.01529327113044976\n",
            "\n",
            "disability ABROCA value: 0.011773404101606988\n",
            "disability Average Odds Difference value: 0.039157064413440856\n",
            "disability Equal Opportunity Difference value: 0.05093046851504768\n"
          ]
        }
      ]
    },
    {
      "cell_type": "code",
      "source": [],
      "metadata": {
        "id": "_GBTptdyt2VZ"
      },
      "execution_count": null,
      "outputs": []
    }
  ]
}